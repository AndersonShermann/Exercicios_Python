{
 "cells": [
  {
   "cell_type": "markdown",
   "id": "5d55b705",
   "metadata": {},
   "source": [
    "###### Exercícios de Estrutura Sequencial do site https://wiki.python.org.br/EstruturaSequencial"
   ]
  },
  {
   "cell_type": "markdown",
   "id": "925636c2",
   "metadata": {},
   "source": [
    "1. Faça um Programa que mostre a mensagem \"Alo mundo\" na tela."
   ]
  },
  {
   "cell_type": "code",
   "execution_count": 2,
   "id": "86f60486",
   "metadata": {},
   "outputs": [
    {
     "name": "stdout",
     "output_type": "stream",
     "text": [
      "Alo mundo\n"
     ]
    }
   ],
   "source": [
    "msg = 'Alo mundo'\n",
    "print(msg)"
   ]
  },
  {
   "cell_type": "markdown",
   "id": "155a47a6",
   "metadata": {},
   "source": [
    "2. Faça um Programa que peça um número e então mostre a mensagem O número informado foi [número]."
   ]
  },
  {
   "cell_type": "code",
   "execution_count": 3,
   "id": "8fe01ad7",
   "metadata": {},
   "outputs": [
    {
     "name": "stdout",
     "output_type": "stream",
     "text": [
      "Digite um número:50\n",
      "O número digitado foi 50\n"
     ]
    }
   ],
   "source": [
    "num = int(input('Digite um número:'))\n",
    "print('O número digitado foi {}' .format(num))"
   ]
  },
  {
   "cell_type": "markdown",
   "id": "a720185b",
   "metadata": {},
   "source": [
    "3. Faça um Programa que peça dois números e imprima a soma."
   ]
  },
  {
   "cell_type": "code",
   "execution_count": 4,
   "id": "42348c72",
   "metadata": {},
   "outputs": [
    {
     "name": "stdout",
     "output_type": "stream",
     "text": [
      "Digite o primeiro número:50\n",
      "Digite o segundo número:60\n",
      "A soma dos números é 110\n"
     ]
    }
   ],
   "source": [
    "num_1 = int(input('Digite o primeiro número:'))\n",
    "num_2 = int(input('Digite o segundo número:'))\n",
    "\n",
    "sum = num_1 + num_2\n",
    "\n",
    "print('A soma dos números é {}' .format(sum))"
   ]
  },
  {
   "cell_type": "markdown",
   "id": "46a0a026",
   "metadata": {},
   "source": [
    "4. Faça um Programa que peça as 4 notas bimestrais e mostre a média."
   ]
  },
  {
   "cell_type": "code",
   "execution_count": 5,
   "id": "9b6b122c",
   "metadata": {},
   "outputs": [
    {
     "name": "stdout",
     "output_type": "stream",
     "text": [
      "Digite a nota do primeiro bimeste:8.9\n",
      "Digite a nota do segundo bimeste:7.3\n",
      "Digite a nota do terceiro bimeste:4.5\n",
      "Digite a nota do quarto bimeste:9.3\n",
      "Sua média final é 7.5\n",
      "Sua média final é 7.50\n"
     ]
    }
   ],
   "source": [
    "nota_1 = float(input('Digite a nota do primeiro bimeste:'))\n",
    "nota_2 = float(input('Digite a nota do segundo bimeste:'))\n",
    "nota_3 = float(input('Digite a nota do terceiro bimeste:'))\n",
    "nota_4 = float(input('Digite a nota do quarto bimeste:'))\n",
    "\n",
    "media = (nota_1 + nota_2 + nota_3 + nota_4) / 4\n",
    "\n",
    "print(\"Sua média final é {}\" .format(media)) # retorna a média em float sem formatação\n",
    "print(\"Sua média final é {:.2f}\" .format(media)) # retorna a média em float formatado com duas casas decimais após o ponto"
   ]
  },
  {
   "cell_type": "markdown",
   "id": "780e7510",
   "metadata": {},
   "source": [
    "5. Faça um Programa que converta metros para centímetros."
   ]
  },
  {
   "cell_type": "code",
   "execution_count": 6,
   "id": "082a4ba2",
   "metadata": {},
   "outputs": [
    {
     "name": "stdout",
     "output_type": "stream",
     "text": [
      "Digite o valor em metros:500\n",
      "500.0 metro(s) corresponde(m) à 50000.0 centímetros\n"
     ]
    }
   ],
   "source": [
    "metros = float(input(\"Digite o valor em metros:\"))\n",
    "centimetros = metros * 100\n",
    "\n",
    "print('{0} metro(s) corresponde(m) à {1} centímetros' .format(metros, centimetros))"
   ]
  },
  {
   "cell_type": "markdown",
   "id": "d8c277da",
   "metadata": {},
   "source": [
    "6. Faça um Programa que peça o raio de um círculo, calcule e mostre sua área."
   ]
  },
  {
   "cell_type": "code",
   "execution_count": 7,
   "id": "9c5aa4c5",
   "metadata": {},
   "outputs": [
    {
     "name": "stdout",
     "output_type": "stream",
     "text": [
      "Para calcular a área do circulo, informe o valor do raio em metros:50\n",
      "A área do circulo é 7850.0 m²\n"
     ]
    }
   ],
   "source": [
    "raio = int(input('Para calcular a área do circulo, informe o valor do raio em metros:'))\n",
    "area = 3.14 * (raio**2)\n",
    "print('A área do circulo é {} m²' .format(area))"
   ]
  },
  {
   "cell_type": "markdown",
   "id": "6e2dcf7d",
   "metadata": {},
   "source": [
    "7. Faça um Programa que calcule a área de um quadrado, em seguida mostre o dobro desta área para o usuário."
   ]
  },
  {
   "cell_type": "code",
   "execution_count": 9,
   "id": "668c4e48",
   "metadata": {},
   "outputs": [
    {
     "name": "stdout",
     "output_type": "stream",
     "text": [
      "Informe o tamanho de um dos lados do quadrado em centímetros:10\n",
      "O dobro da área do quadrado com lados iguais à 10 centímetros é 200\n"
     ]
    }
   ],
   "source": [
    "lado = int(input('Informe o tamanho de um dos lados do quadrado em centímetros:'))\n",
    "area = (lado**2) * 2\n",
    "print('O dobro da área do quadrado com lados iguais à {0} centímetros é {1}' .format(lado, area))"
   ]
  },
  {
   "cell_type": "markdown",
   "id": "842577b3",
   "metadata": {},
   "source": [
    "8. Faça um Programa que pergunte quanto você ganha por hora e o número de horas trabalhadas no mês. Calcule e mostre o total do seu salário no referido mês."
   ]
  },
  {
   "cell_type": "code",
   "execution_count": 12,
   "id": "5da8728a",
   "metadata": {},
   "outputs": [
    {
     "name": "stdout",
     "output_type": "stream",
     "text": [
      "Informe o quanto você ganha por hora:54.20\n",
      "Informe quantas horas você trabalhou esse mês:160\n",
      "Você trabalhou um total de 160 horas este mês e receberá R$ 8672.0 de salário.\n"
     ]
    }
   ],
   "source": [
    "valor_da_hora = float(input('Informe o quanto você ganha por hora:'))\n",
    "horas_trabalhadas = int(input('Informe quantas horas você trabalhou esse mês:'))\n",
    "\n",
    "salario = valor_da_hora * horas_trabalhadas\n",
    "\n",
    "print('Você trabalhou um total de {0} horas este mês e receberá R$ {1} de salário.' .format(horas_trabalhadas, salario))"
   ]
  },
  {
   "cell_type": "markdown",
   "id": "454855bb",
   "metadata": {},
   "source": [
    "9. Faça um Programa que peça a temperatura em graus Fahrenheit, transforme e mostre a temperatura em graus Celsius."
   ]
  },
  {
   "cell_type": "code",
   "execution_count": 13,
   "id": "42a1f681",
   "metadata": {},
   "outputs": [
    {
     "name": "stdout",
     "output_type": "stream",
     "text": [
      "Informe a temperatura em Farenheit:32\n",
      "32.0ºF correspondem a 0.00ºC\n"
     ]
    }
   ],
   "source": [
    "f = float(input('Informe a temperatura em Farenheit:'))\n",
    "celcius = 5 * ((f-32)/9)\n",
    "\n",
    "print('{0}ºF correspondem a {1:.2f}ºC' .format(f, celcius))"
   ]
  },
  {
   "cell_type": "markdown",
   "id": "a1223807",
   "metadata": {},
   "source": [
    "10. Faça um Programa que peça a temperatura em graus Celsius, transforme e mostre em graus Fahrenheit."
   ]
  },
  {
   "cell_type": "code",
   "execution_count": 15,
   "id": "cf409a0f",
   "metadata": {},
   "outputs": [
    {
     "name": "stdout",
     "output_type": "stream",
     "text": [
      "Informe a temperatura em Celcius:0\n",
      "0.0ºC correspondem a 32.00ºF\n"
     ]
    }
   ],
   "source": [
    "celcius = float(input('Informe a temperatura em Celcius:'))\n",
    "f = (celcius*1.8)+32\n",
    "\n",
    "print('{0}ºC correspondem a {1:.2f}ºF' .format(celcius, f))"
   ]
  },
  {
   "cell_type": "markdown",
   "id": "dad16786",
   "metadata": {},
   "source": [
    "11. Faça um Programa que peça 2 números inteiros e um número real. Calcule e mostre:\n",
    "* o produto do dobro do primeiro com metade do segundo .\n",
    "* a soma do triplo do primeiro com o terceiro.\n",
    "* o terceiro elevado ao cubo."
   ]
  },
  {
   "cell_type": "code",
   "execution_count": 18,
   "id": "8a9300a9",
   "metadata": {},
   "outputs": [
    {
     "name": "stdout",
     "output_type": "stream",
     "text": [
      "Informe o primeiro número inteiro: 11\n",
      "Informe o segundo número inteiro: 25\n",
      "Informe um número real: -5\n",
      "O produto do dobro do primeiro com metade do segundo é 275.0. \n",
      "A soma do triplo do primeiro com o terceiro é 28.0. \n",
      "O terceiro elevado ao cubo é -125.0.\n"
     ]
    }
   ],
   "source": [
    "num_1 = int(input('Informe o primeiro número inteiro: '))\n",
    "num_2 = int(input('Informe o segundo número inteiro: '))\n",
    "num_3 = float(input('Informe um número real: '))\n",
    "\n",
    "resultado_1 = (num_1*2)*(num_2/2)\n",
    "resultado_2 = (num_1*3)+num_3\n",
    "resultado_3 = num_3**3\n",
    "\n",
    "print('O produto do dobro do primeiro com metade do segundo é {0}. \\nA soma do triplo do primeiro com o terceiro é {1}. \\nO terceiro elevado ao cubo é {2}.' .format(resultado_1, resultado_2, resultado_3))"
   ]
  },
  {
   "cell_type": "markdown",
   "id": "90e85010",
   "metadata": {},
   "source": [
    "12. Tendo como dados de entrada a altura de uma pessoa, construa um algoritmo que calcule seu peso ideal, usando a seguinte fórmula:\n",
    "###### (72.7*altura) - 58"
   ]
  },
  {
   "cell_type": "code",
   "execution_count": 19,
   "id": "663ddcc1",
   "metadata": {},
   "outputs": [
    {
     "name": "stdout",
     "output_type": "stream",
     "text": [
      "Informe sua altura:1.89\n",
      "Seu peso ideal é 79.40\n"
     ]
    }
   ],
   "source": [
    "altura = float(input('Informe sua altura:'))\n",
    "peso_ideal = (72.7*altura)-58\n",
    "\n",
    "print('Seu peso ideal é {:.2f}' .format(peso_ideal))"
   ]
  },
  {
   "cell_type": "markdown",
   "id": "bcfb0d45",
   "metadata": {},
   "source": [
    "13. Tendo como dado de entrada a altura (h) de uma pessoa, construa um algoritmo que calcule seu peso ideal, utilizando as seguintes fórmulas:\n",
    "###### Para homens: (72.7*h) - 58\n",
    "###### Para mulheres: (62.1*h) - 44.7"
   ]
  },
  {
   "cell_type": "code",
   "execution_count": 20,
   "id": "85ed819a",
   "metadata": {},
   "outputs": [
    {
     "name": "stdout",
     "output_type": "stream",
     "text": [
      "Informe sua altura:1.53\n",
      "Informe seu sexo. Digite \"m\" para masculino e \"f para feminino\"f\n",
      "Você tem 1.53m de altura e é do sexo feminino. Seu peso ideal é 50.31.\n"
     ]
    }
   ],
   "source": [
    "altura = float(input('Informe sua altura:'))\n",
    "sexo = input('Informe seu sexo. Digite \"m\" para masculino e \"f para feminino\"')\n",
    "\n",
    "if sexo==\"m\":\n",
    "    peso_ideal = (72.7*altura)-58\n",
    "    print('Você tem {0}m de altura e é do sexo masculino. Seu peso ideal é {1:.2f}.' .format(altura, peso_ideal))\n",
    "else:\n",
    "    peso_ideal = (62.1*altura)-44.7\n",
    "    print('Você tem {0}m de altura e é do sexo feminino. Seu peso ideal é {1:.2f}.' .format(altura, peso_ideal))"
   ]
  },
  {
   "cell_type": "markdown",
   "id": "e0fcdef5",
   "metadata": {},
   "source": [
    "14. João Papo-de-Pescador, homem de bem, comprou um microcomputador para controlar o rendimento diário de seu trabalho. Toda vez que ele traz um peso de peixes maior que o estabelecido pelo regulamento de pesca do estado de São Paulo (50 quilos) deve pagar uma multa de RS 4,00 por quilo excedente. João precisa que você faça um programa que leia a variável peso (peso de peixes) e calcule o excesso. Gravar na variável excesso a quantidade de quilos além do limite e na variável multa o valor da multa que João deverá pagar. Imprima os dados do programa com as mensagens adequadas."
   ]
  },
  {
   "cell_type": "code",
   "execution_count": 21,
   "id": "45fa90e1",
   "metadata": {},
   "outputs": [
    {
     "name": "stdout",
     "output_type": "stream",
     "text": [
      "Informe o peso de peixes em Kg:54\n",
      "Você excedeu 4.0Kg do limite permitido por lei e pagará R$16.00 reais de multa.\n"
     ]
    }
   ],
   "source": [
    "limite = 50\n",
    "multa = 0\n",
    "peso = float(input('Informe o peso de peixes em Kg:'))\n",
    "excesso = peso - limite\n",
    "\n",
    "if peso>50:\n",
    "    multa = 4*excesso\n",
    "    print('Você excedeu {0}Kg do limite permitido por lei e pagará R${1:.2f} reais de multa.' .format(excesso, multa))\n",
    "else:\n",
    "    print('Você não excedeu o peso limite estabelecido por lei.')"
   ]
  },
  {
   "cell_type": "markdown",
   "id": "71595234",
   "metadata": {},
   "source": [
    "15. Faça um Programa que pergunte quanto você ganha por hora e o número de horas trabalhadas no mês. \n",
    "    Calcule e mostre o total do seu salário no referido mês, sabendo-se que são descontados 11% para o Imposto de Renda, 8% para o INSS e 5% para o sindicato, faça um programa que nos dê:\n",
    "* salário bruto.\n",
    "* quanto pagou ao INSS.\n",
    "* quanto pagou ao sindicato.\n",
    "* o salário líquido.\n",
    "\n",
    "    Calcule os descontos e o salário líquido, conforme a tabela abaixo:\n",
    "\n",
    "* ↑ Salário Bruto : RS\n",
    "* ↓ IR (11%) : RS\n",
    "* ↓ INSS (8%) : RS\n",
    "* ↓ Sindicato ( 5%) : RS\n",
    "* ~ Salário Liquido : RS\n",
    "##### Obs.: Salário Bruto - Descontos = Salário Líquido."
   ]
  },
  {
   "cell_type": "code",
   "execution_count": 23,
   "id": "183d6075",
   "metadata": {},
   "outputs": [
    {
     "name": "stdout",
     "output_type": "stream",
     "text": [
      "Informe o número de horas trabalhadas no mês:160\n",
      "Informe o valor da hora trabalhada:54.20\n",
      "↑ Salário Bruto: R$ 8672.00\n",
      "↓ IR (11%): R$ 953.92\n",
      "↓ INSS (8%): R$ 693.76\n",
      "↓ Sindicato (5%): R$ 433.60\n",
      "~ Salário Líquido: R$ 6590.72.\n"
     ]
    }
   ],
   "source": [
    "horas_trabalhadas = int(input('Informe o número de horas trabalhadas no mês:'))\n",
    "valor_da_hora = float(input('Informe o valor da hora trabalhada:'))\n",
    "salario_bruto = horas_trabalhadas * valor_da_hora\n",
    "ir = salario_bruto * 0.11\n",
    "inss = salario_bruto * 0.08\n",
    "sindicato = salario_bruto * 0.05\n",
    "salario_liquido = salario_bruto - ir - inss - sindicato\n",
    "print('↑ Salário Bruto: R$ {0:.2f}\\n↓ IR (11%): R$ {1:.2f}\\n↓ INSS (8%): R$ {2:.2f}\\n↓ Sindicato (5%): R$ {3:.2f}\\n~ Salário Líquido: R$ {4:.2f}.' .format(salario_bruto, ir, inss, sindicato, salario_liquido))"
   ]
  },
  {
   "cell_type": "markdown",
   "id": "df8b6fcb",
   "metadata": {},
   "source": [
    "16. Faça um programa para uma loja de tintas. O programa deverá pedir o tamanho em metros quadrados da área a ser pintada.  Considere que a cobertura da tinta é de 1 litro para cada 3 metros quadrados e que a tinta é vendida em latas de 18 litros, que custam RS 80,00. Informe ao usuário a quantidades de latas de tinta a serem compradas e o preço total."
   ]
  },
  {
   "cell_type": "code",
   "execution_count": 25,
   "id": "0987747c",
   "metadata": {},
   "outputs": [
    {
     "name": "stdout",
     "output_type": "stream",
     "text": [
      "Informe, em metros quadrados \"m²\" a área à ser pintada:100\n",
      "A área a ser pintada possui 100m².\n",
      "Será(ão) necessário(s) 2 latas de tinta para cobrir toda a área, totalizando um valor de R$ 160.\n"
     ]
    }
   ],
   "source": [
    "import math # importando a biblioteca math para poder utilizar a função ceil que arredonda os números para cima\n",
    "\n",
    "area = int(input('Informe, em metros quadrados \"m²\" a área à ser pintada:'))\n",
    "litros = area / 3 # calcula quantos litros setão necessários para pintar a área\n",
    "latas = math.ceil(litros / 18) # calcula a quantidade de latas que serão necessárias\n",
    "valor = latas * 80 # calcula o valor a ser pago\n",
    "\n",
    "print('A área a ser pintada possui {0}m².\\nSerá(ão) necessário(s) {1} latas de tinta para cobrir toda a área, totalizando um valor de R$ {2}.' .format(area, latas, valor))\n",
    "\n"
   ]
  },
  {
   "cell_type": "markdown",
   "id": "9f66cf68",
   "metadata": {},
   "source": [
    "17. Faça um Programa para uma loja de tintas. O programa deverá pedir o tamanho em metros quadrados da área a ser pintada. Considere que a cobertura da tinta é de 1 litro para cada 6 metros quadrados e que a tinta é vendida em latas de 18 litros, que custam RS 80,00 ou em galões de 3,6 litros, que custam RS 25,00.Informe ao usuário as quantidades de tinta a serem compradas e os respectivos preços em 3 situações:\n",
    "* comprar apenas latas de 18 litros;\n",
    "* comprar apenas galões de 3,6 litros;\n",
    "* misturar latas e galões, de forma que o desperdício de tinta seja menor. \n",
    "* Acrescente 10% de folga e sempre arredonde os valores para cima, isto é, considere latas cheias."
   ]
  },
  {
   "cell_type": "code",
   "execution_count": null,
   "id": "37276363",
   "metadata": {},
   "outputs": [],
   "source": []
  },
  {
   "cell_type": "markdown",
   "id": "4db85d9b",
   "metadata": {},
   "source": [
    "18. Faça um programa que peça o tamanho de um arquivo para download (em MB) e a velocidade de um link de Internet (em Mbps), calcule e informe o tempo aproximado de download do arquivo usando este link (em minutos)."
   ]
  },
  {
   "cell_type": "code",
   "execution_count": null,
   "id": "8b83ad99",
   "metadata": {},
   "outputs": [],
   "source": []
  }
 ],
 "metadata": {
  "kernelspec": {
   "display_name": "Python 3 (ipykernel)",
   "language": "python",
   "name": "python3"
  },
  "language_info": {
   "codemirror_mode": {
    "name": "ipython",
    "version": 3
   },
   "file_extension": ".py",
   "mimetype": "text/x-python",
   "name": "python",
   "nbconvert_exporter": "python",
   "pygments_lexer": "ipython3",
   "version": "3.9.12"
  }
 },
 "nbformat": 4,
 "nbformat_minor": 5
}
