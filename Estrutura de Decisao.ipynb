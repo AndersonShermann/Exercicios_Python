{
 "cells": [
  {
   "cell_type": "markdown",
   "id": "2f933af7",
   "metadata": {},
   "source": [
    "###### Exercícios de Estrutura Sequencial do site https://wiki.python.org.br/EstruturaDeDecisao"
   ]
  },
  {
   "cell_type": "markdown",
   "id": "7f63a3c9",
   "metadata": {},
   "source": [
    "1. Faça um Programa que peça dois números e imprima o maior deles."
   ]
  },
  {
   "cell_type": "code",
   "execution_count": null,
   "id": "38c37eb8",
   "metadata": {},
   "outputs": [],
   "source": [
    "num_1 = int(input('Digite o primeiro número:'))\n",
    "num_2 = int(input('Digite o segundo número:'))\n",
    "\n",
    "if num_1 > num_2:\n",
    "    print('O maior número é %d' %num_1)\n",
    "else:\n",
    "    print('O maior número é %d' %num_2)"
   ]
  },
  {
   "cell_type": "markdown",
   "id": "8c9b1560",
   "metadata": {},
   "source": [
    "2. Faça um Programa que peça um valor e mostre na tela se o valor é positivo ou negativo."
   ]
  },
  {
   "cell_type": "code",
   "execution_count": null,
   "id": "3a24c27b",
   "metadata": {},
   "outputs": [],
   "source": [
    "num = int(input('Digite um número: '))\n",
    "if num>=0:\n",
    "    print('O número digitado é positivo.')\n",
    "else:\n",
    "    print('O valor digitado é negativo.')"
   ]
  },
  {
   "cell_type": "markdown",
   "id": "4ef990f9",
   "metadata": {},
   "source": [
    "3. Faça um Programa que verifique se uma letra digitada é \"F\" ou \"M\". Conforme a letra escrever: F - Feminino, M - Masculino, Sexo Inválido."
   ]
  },
  {
   "cell_type": "code",
   "execution_count": null,
   "id": "745750b9",
   "metadata": {},
   "outputs": [],
   "source": [
    "sexo = input('Informe o seu sexo. Digite \"f\" para feminino e \"m\" para masculino.')\n",
    "if sexo == 'f':\n",
    "    print('Você é do sexo feminino')\n",
    "elif sexo == 'm':\n",
    "    print('Você é do sexo masculino')\n",
    "else:\n",
    "    print('Sexo inválido.')  "
   ]
  },
  {
   "cell_type": "markdown",
   "id": "0f52639e",
   "metadata": {},
   "source": [
    "4. Faça um Programa que verifique se uma letra digitada é vogal ou consoante."
   ]
  },
  {
   "cell_type": "code",
   "execution_count": null,
   "id": "24287cd4",
   "metadata": {},
   "outputs": [],
   "source": [
    "letra=input('Digite uma letra:')\n",
    "\n",
    "if letra=='a' or letra=='e' or letra=='i' or letra=='o' or letra=='u':\n",
    "    print('A letra digitada é uma vogal.')\n",
    "else:\n",
    "    print('A letra digitada é uma consoante.')"
   ]
  },
  {
   "cell_type": "markdown",
   "id": "d0964773",
   "metadata": {},
   "source": [
    "5. Faça um programa para a leitura de duas notas parciais de um aluno. O programa deve calcular a média alcançada por aluno e apresentar:\n",
    "* A mensagem \"Aprovado\", se a média alcançada for maior ou igual a sete;\n",
    "* A mensagem \"Reprovado\", se a média for menor do que sete;\n",
    "* A mensagem \"Aprovado com Distinção\", se a média for igual a dez."
   ]
  },
  {
   "cell_type": "code",
   "execution_count": null,
   "id": "3a841431",
   "metadata": {},
   "outputs": [],
   "source": [
    "nota_1 = float(input('Informe a primeira nota: '))\n",
    "nota_2 = float(input('Informe a segunda nota: '))\n",
    "media = (nota_1+nota_2)/2\n",
    "\n",
    "if media==10:\n",
    "    print('Aprovado com distinção')\n",
    "elif media>=7:\n",
    "    print('Aprovado')\n",
    "else:\n",
    "    print('Reprovado')"
   ]
  },
  {
   "cell_type": "markdown",
   "id": "3fb09ef5",
   "metadata": {},
   "source": [
    "6. Faça um Programa que leia três números e mostre o maior deles."
   ]
  },
  {
   "cell_type": "code",
   "execution_count": null,
   "id": "66c87600",
   "metadata": {},
   "outputs": [],
   "source": [
    "num_1 = int(input('Digite o primeiro número: '))\n",
    "num_2 = int(input('Digite o segundo número: '))\n",
    "num_3 = int(input('Digite o terceiro número: '))\n",
    "\n",
    "if num_1>num_2 and num_1>num_3:\n",
    "    print('O maior número é {}' .format(num_1))\n",
    "elif num_2>num_1 and num_2>num_3:\n",
    "    print('O maior número é {}' .format(num_2))\n",
    "else:\n",
    "    print('O maior número é {}' .format(num_3))"
   ]
  },
  {
   "cell_type": "markdown",
   "id": "3cff317c",
   "metadata": {},
   "source": [
    "7. Faça um Programa que leia três números e mostre o maior e o menor deles."
   ]
  },
  {
   "cell_type": "code",
   "execution_count": null,
   "id": "743e2ac9",
   "metadata": {},
   "outputs": [],
   "source": [
    "num_1 = int(input('Digite o primeiro número: '))\n",
    "num_2 = int(input('Digite o segundo número: '))\n",
    "num_3 = int(input('Digite o terceiro número: '))\n",
    "maior = num_1\n",
    "menor = num_1\n",
    "\n",
    "# descobrindo o maior\n",
    "if num_2>maior:\n",
    "    maior=num_2\n",
    "if num_3>maior:\n",
    "    maior=num_3\n",
    "# descobrindo o menor\n",
    "if num_2<menor:\n",
    "    menor=num_2\n",
    "if num_3<menor:\n",
    "    menor=num_3\n",
    "    \n",
    "print('O maior número é {0} e o menor número é {1}' .format(maior, menor))"
   ]
  },
  {
   "cell_type": "markdown",
   "id": "aa133cb3",
   "metadata": {},
   "source": [
    "8. Faça um programa que pergunte o preço de três produtos e informe qual produto você deve comprar, sabendo que a decisão é sempre pelo mais barato."
   ]
  },
  {
   "cell_type": "code",
   "execution_count": null,
   "id": "f9ed781a",
   "metadata": {},
   "outputs": [],
   "source": [
    "prod_1 = float(input('Informe o valor do primeiro produto: '))\n",
    "prod_2 = float(input('Informe o valor do segundo produto: '))\n",
    "prod_3 = float(input('Informe o valor do terceiro produto: '))\n",
    "\n",
    "menor_preco = prod_1\n",
    "\n",
    "if prod_2<menor_preco:\n",
    "    menor_preco=prod_2\n",
    "if prod_3<menor_preco:\n",
    "    menor_preco=prod_3\n",
    "print('O produto com o menor preço custa R${:.2f}' .format(menor_preco))"
   ]
  },
  {
   "cell_type": "markdown",
   "id": "ef420f1a",
   "metadata": {},
   "source": [
    "9. Faça um Programa que leia três números e mostre-os em ordem decrescente."
   ]
  },
  {
   "cell_type": "code",
   "execution_count": null,
   "id": "715a0e11",
   "metadata": {},
   "outputs": [],
   "source": [
    "num_1 = 23\n",
    "num_2 = 27\n",
    "num_3 = 75\n",
    "\n",
    "# verifica se o terceiro número é maior que o segundo\n",
    "if num_3>num_2:\n",
    "    temp=num_2\n",
    "    num_2=num_3\n",
    "    num_3=temp\n",
    "\n",
    "# verifica se o segundo número é maior que o primeiro\n",
    "if num_2>num_1:\n",
    "    temp=num_1\n",
    "    num_1=num_2\n",
    "    num_2=temp\n",
    "    \n",
    "# verifica se o terceiro número pe maior que o segundo\n",
    "if num_3>num_2:\n",
    "    temp=num_2\n",
    "    num_2=num_3\n",
    "    num_3=temp\n",
    "    \n",
    "print(num_1, num_2, num_3)"
   ]
  },
  {
   "cell_type": "markdown",
   "id": "ba894391",
   "metadata": {},
   "source": [
    "10. Faça um Programa que pergunte em que turno você estuda. Peça para digitar M-matutino ou V-Vespertino ou N- Noturno. Imprima a mensagem \"Bom Dia!\", \"Boa Tarde!\" ou \"Boa Noite!\" ou \"Valor Inválido!\", conforme o caso.\n",
    "\n"
   ]
  },
  {
   "cell_type": "code",
   "execution_count": null,
   "id": "785ea8da",
   "metadata": {},
   "outputs": [],
   "source": [
    "turno = input('Em qual turno você estuda? Digite \"M\" para Matutino, \"V\" para vespertino ou \"N\" para Noturno')\n",
    "\n",
    "if turno.lower()=='m':\n",
    "    print('Bom dia!')\n",
    "elif turno.lower()=='v':\n",
    "    print('Boa tarde!')\n",
    "elif turno.lower()=='n':\n",
    "    print('Boa noite!')\n",
    "else:\n",
    "    print('Valor Inválido!')"
   ]
  },
  {
   "cell_type": "markdown",
   "id": "35d0714c",
   "metadata": {},
   "source": [
    "11. As Organizações Tabajara resolveram dar um aumento de salário aos seus colaboradores e lhe contraram para desenvolver o programa que calculará os reajustes.Faça um programa que recebe o salário de um colaborador e o reajuste segundo o seguinte critério, baseado no salário atual:\n",
    " \n",
    "* salários até RS 280,00 (incluindo) : aumento de 20%\n",
    "* salários entre RS 280,00 e RS 700,00 : aumento de 15%\n",
    "* salários entre RS 700,00 e RS 1500,00 : aumento de 10%\n",
    "* salários de RS 1500,00 em diante : aumento de 5% \n",
    "\n",
    "Após o aumento ser realizado, informe na tela:\n",
    "\n",
    "* o salário antes do reajuste;\n",
    "* o percentual de aumento aplicado;\n",
    "* o valor do aumento;\n",
    "* o novo salário, após o aumento.\n",
    "\n"
   ]
  },
  {
   "cell_type": "code",
   "execution_count": null,
   "id": "92b33b64",
   "metadata": {},
   "outputs": [],
   "source": [
    "salario = float(input('Digite o seu salário: '))\n",
    "\n",
    "# Calcula o valor do reajuste e do novo salário para quem recebe até R$ 280.00\n",
    "if salario<=280:\n",
    "    reajuste=salario*0.2\n",
    "    novo_salario=salario+reajuste\n",
    "    print('Salário atual: R${0}\\nPercentual do reajuste: 20%\\nValor do reajuste: R${1}\\nSalário reajustado: R${2}' .format(salario,reajuste, novo_salario))\n",
    "# Calcula o valor do reajuste e do novo salário para quem recebe mais de R$ 280.00 até R$ 700.00    \n",
    "elif salario>280 and salario<=700:\n",
    "    reajuste=salario*0.15\n",
    "    novo_salario=salario+reajuste\n",
    "    print('Salário atual: R${0}\\nPercentual do reajuste: 15%\\nValor do reajuste: R${1}\\nSalário reajustado: R${2}' .format(salario,reajuste, novo_salario))\n",
    "# Calcula o valor do reajuste e do novo salário para quem recebe mais de R$ 700.00 até R$ 1500.00       \n",
    "elif salario>700 and salario<=1500:\n",
    "    reajuste=salario*0.1\n",
    "    novo_salario=salario+reajuste\n",
    "    print('Salário atual: R${0}\\nPercentual do reajuste: 10%\\nValor do reajuste: R${1}\\nSalário reajustado: R${2}' .format(salario,reajuste, novo_salario))\n",
    "# Calcula o valor do reajuste e do novo salário para quem recebe mais de R$ 1500.00\n",
    "else:\n",
    "    reajuste=salario*0.05\n",
    "    novo_salario=salario+reajuste\n",
    "    print('Salário atual: R${0}\\nPercentual do reajuste: 5%\\nValor do reajuste: R${1}\\nSalário reajustado: R${2}' .format(salario,reajuste, novo_salario))\n"
   ]
  },
  {
   "cell_type": "markdown",
   "id": "32384ce1",
   "metadata": {},
   "source": [
    "12. Faça um programa para o cálculo de uma folha de pagamento, sabendo que os descontos são do Imposto de Renda, que depende do salário bruto (conforme tabela abaixo), 10% do INSS e 3% para o Sindicato e que o FGTS corresponde a 11% do Salário Bruto, mas não é descontado (é a empresa que deposita). O Salário Líquido corresponde ao Salário Bruto menos os descontos. O programa deverá pedir ao usuário o valor da sua hora e a quantidade de horas trabalhadas no mês.\n",
    "\n",
    "###### Desconto do IR:\n",
    "* Salário Bruto até 900 (inclusive) - isento\n",
    "* Salário Bruto até 1500 (inclusive) - desconto de 5%\n",
    "* Salário Bruto até 2500 (inclusive) - desconto de 10%\n",
    "* Salário Bruto acima de 2500 - desconto de 20% \n",
    "\n",
    "Imprima na tela as informações, dispostas conforme o exemplo abaixo. No exemplo o valor da hora é 5 e a quantidade de hora é 220.\n",
    "\n",
    "        Salário Bruto: (5 * 220)        : RS 1100,00\n",
    "        (-) IR (5%)                     : RS   55,00  \n",
    "        (-) INSS ( 10%)                 : RS  110,00\n",
    "        FGTS (11%)                      : RS  121,00\n",
    "        Total de descontos              : RS  165,00\n",
    "        Salário Liquido                 : RS  935,00"
   ]
  },
  {
   "cell_type": "code",
   "execution_count": null,
   "id": "9bbc244d",
   "metadata": {},
   "outputs": [],
   "source": [
    "horas_trabalhadas = int(input('Informe a quantidade de horas trabalhadas este mês: '))\n",
    "valor_da_hora = float(input('Informe o valor da hora trabalhada: '))\n",
    "salario = horas_trabalhadas*valor_da_hora\n",
    "\n",
    "\n",
    "if salario<=900:\n",
    "    ir=salario*0                                      # calcula o valor do imposto de renda\n",
    "    desconto_sindicato = salario*0.03                 # calcula o valor a ser descontado pelo sindicato\n",
    "    fgts=salario*0.11                                 # calcula o valor do FGTS a ser pago pelo empregador\n",
    "    inss=salario*0.10                                 # calcula o valor a ser descontado pelo inss\n",
    "    total_de_descontos=ir+inss+desconto_sindicato     # calcula o total de descontos\n",
    "    novo_salario=salario-ir-desconto_sindicato-inss   # calcula o salário liquido\n",
    "    print('↑ Salário Bruto: R$ {0:.2f}\\n↓ IR (Isento): R$ {1:.2f}\\n↓ INSS (10%): R$ {2:.2f}\\n↓ Sindicato (3%): R$ {3:.2f}\\n~ FGTS (11%): R$ {4:.2f}\\n~ Total de Descontos: R$ {5:.2f}\\n= Salário Líquido: R$ {6:.2f}'.format(salario, ir, inss, desconto_sindicato, fgts, total_de_descontos, novo_salario))\n",
    "    \n",
    "elif salario>900 and salario<=1500:\n",
    "    ir=salario*0.05\n",
    "    desconto_sindicato = salario*0.03\n",
    "    fgts= salario*0.11\n",
    "    inss=salario*0.10\n",
    "    total_de_descontos=ir+inss+desconto_sindicato\n",
    "    novo_salario=salario-ir-desconto_sindicato-inss\n",
    "    print('↑ Salário Bruto: R$ {0:.2f}\\n↓ IR (5%): R$ {1:.2f}\\n↓ INSS (10%): R$ {2:.2f}\\n↓ Sindicato (3%): R$ {3:.2f}\\n~ FGTS (11%): R$ {4:.2f}\\n~ Total de Descontos: R$ {5:.2f}\\n= Salário Líquido: R$ {6:.2f}'.format(salario, ir, inss, desconto_sindicato, fgts, total_de_descontos, novo_salario))\n",
    "    \n",
    "elif salario>1500 and salario<=2500:\n",
    "    ir=salario*0.10\n",
    "    desconto_sindicato = salario*0.03\n",
    "    fgts= salario*0.11\n",
    "    inss=salario*0.10\n",
    "    total_de_descontos=ir+inss+desconto_sindicato\n",
    "    novo_salario=salario-ir-desconto_sindicato-inss\n",
    "    print('↑ Salário Bruto: R$ {0:.2f}\\n↓ IR (10%): R$ {1:.2f}\\n↓ INSS (10%): R$ {2:.2f}\\n↓ Sindicato (3%): R$ {3:.2f}\\n~ FGTS (11%): R$ {4:.2f}\\n~ Total de Descontos: R$ {5:.2f}\\n= Salário Líquido: R$ {6:.2f}'.format(salario, ir, inss, desconto_sindicato, fgts, total_de_descontos, novo_salario))\n",
    "    \n",
    "else:\n",
    "    ir=salario*0.20\n",
    "    desconto_sindicato = salario*0.03\n",
    "    fgts= salario*0.11\n",
    "    inss=salario*0.10\n",
    "    total_de_descontos=ir+inss+desconto_sindicato\n",
    "    novo_salario=salario-ir-desconto_sindicato-inss\n",
    "    print('↑ Salário Bruto: R$ {0:.2f}\\n↓ IR (20%): R$ {1:.2f}\\n↓ INSS (10%): R$ {2:.2f}\\n↓ Sindicato (3%): R$ {3:.2f}\\n~ FGTS (11%): R$ {4:.2f}\\n~ Total de Descontos: R$ {5:.2f}\\n= Salário Líquido: R$ {6:.2f}'.format(salario, ir, inss, desconto_sindicato, fgts, total_de_descontos, novo_salario))\n",
    "\n",
    "\n"
   ]
  },
  {
   "cell_type": "markdown",
   "id": "96765ca6",
   "metadata": {},
   "source": [
    "13. Faça um Programa que leia um número e exiba o dia correspondente da semana. (1-Domingo, 2- Segunda, etc.), se digitar outro valor deve aparecer valor inválido."
   ]
  },
  {
   "cell_type": "code",
   "execution_count": null,
   "id": "02d810d2",
   "metadata": {},
   "outputs": [],
   "source": [
    "dia_da_semana = int(input('Digite o nº correspondente do dia da semana. Ex.:  (1-Domingo, 2- Segunda, etc.: '))\n",
    "\n",
    "if dia_da_semana==1:\n",
    "    print('Domingo')\n",
    "elif dia_da_semana==2:\n",
    "    print('Segunda')\n",
    "elif dia_da_semana==3:\n",
    "    print('Terça')\n",
    "elif dia_da_semana==4:\n",
    "    print('Quarta')\n",
    "elif dia_da_semana==5:\n",
    "    print('Quinta')\n",
    "elif dia_da_semana==6:\n",
    "    print('Sexta')\n",
    "elif dia_da_semana==7:\n",
    "    print('Sábado')\n",
    "else:\n",
    "    print('Valor Inválido')"
   ]
  },
  {
   "cell_type": "markdown",
   "id": "7daaacff",
   "metadata": {},
   "source": [
    "14. Faça um programa que lê as duas notas parciais obtidas por um aluno numa disciplina ao longo de um semestre, e calcule a sua média. A atribuição de conceitos obedece à tabela abaixo:\n",
    "  ###### Média de Aproveitamento  Conceito\n",
    "  * Entre 9.0 e 10.0 ------ A\n",
    "  * Entre 7.5 e 9.0 ------ B\n",
    "  * Entre 6.0 e 7.5 ------ C\n",
    "  * Entre 4.0 e 6.0 ------ D\n",
    "  * Entre 4.0 e zero ------ E\n",
    "\n",
    "O algoritmo deve mostrar na tela as notas, a média, o conceito correspondente e a mensagem “APROVADO” se o conceito for A, B ou C ou “REPROVADO” se o conceito for D ou E."
   ]
  },
  {
   "cell_type": "code",
   "execution_count": null,
   "id": "90dcfd10",
   "metadata": {},
   "outputs": [],
   "source": [
    "nota_1 = float(input('Informe a primeira nota: '))\n",
    "nota_2 = float(input('Informe a segunda nota: '))\n",
    "media = (nota_1+nota_2)/2\n",
    "\n",
    "# Verifica o conceito de acordo com a nota\n",
    "if media>=9 and media<=10:\n",
    "    conceito='A'\n",
    "elif media>=7.5 and media<9:\n",
    "    conceito='B'\n",
    "elif media>=6 and media<7.5:\n",
    "    conceito='C'\n",
    "elif media>=4 and media<6:\n",
    "    conceito='D'\n",
    "else:\n",
    "    conceito='E'\n",
    "    \n",
    "# Verifica de o aluno foi aprovado ou reprovado\n",
    "if conceito=='A' or conceito=='B' or conceito=='C':\n",
    "    situacao='Aprovado'\n",
    "else:\n",
    "    situacao='Reprovado'\n",
    "\n",
    "print('Nota 1: {}\\nNota 2: {}\\nMédia: {}\\nConceito: {}\\nSituação: {}' .format(nota_1, nota_2, media, conceito, situacao))"
   ]
  },
  {
   "cell_type": "markdown",
   "id": "8c782b4e",
   "metadata": {},
   "source": [
    "15. Faça um Programa que peça os 3 lados de um triângulo. O programa deverá informar se os valores podem ser um triângulo. Indique, caso os lados formem um triângulo, se o mesmo é: equilátero, isósceles ou escaleno.\n",
    "###### Dicas:\n",
    "* Três lados formam um triângulo quando a soma de quaisquer dois lados for maior que o terceiro;\n",
    "* Triângulo Equilátero: três lados iguais;\n",
    "* Triângulo Isósceles: quaisquer dois lados iguais;\n",
    "* Triângulo Escaleno: três lados diferentes;"
   ]
  },
  {
   "cell_type": "code",
   "execution_count": null,
   "id": "4ddf82e6",
   "metadata": {
    "scrolled": true
   },
   "outputs": [],
   "source": [
    "lado_1 = int(input('Informe o primeiro lado do triângulo: '))\n",
    "lado_2 = int(input('Informe o segundo lado do triângulo: '))\n",
    "lado_3 = int(input('Informe o terceiro lado do triângulo: '))\n",
    "\n",
    "if (lado_1+lado_2<lado_3) or (lado_2+lado_3<lado_1) or (lado_1+lado_3<lado_2):\n",
    "    print('O valores informados não formam um triângulo')\n",
    "elif lado_1==lado_2 and lado_2==lado_3:\n",
    "    print('O valores informados formam um trângulo Equilátero')\n",
    "elif  lado_1==lado_2 or lado_2==lado_3 or lado_3==lado_1:\n",
    "    print('O valores informados formam um triângulo Isósceles')\n",
    "else:\n",
    "    print('O valores informados formam um triângulo Escaleno')"
   ]
  },
  {
   "cell_type": "markdown",
   "id": "d92ee2de",
   "metadata": {},
   "source": [
    "16. Faça um programa que calcule as raízes de uma equação do segundo grau, na forma ax2 + bx + c. O programa deverá pedir os valores de a, b e c e fazer as consistências, informando ao usuário nas seguintes situações:\n",
    "\n",
    "* Se o usuário informar o valor de A igual a zero, a equação não é do segundo grau e o programa não deve fazer pedir os demais valores, sendo encerrado;\n",
    "* Se o delta calculado for negativo, a equação não possui raizes reais. Informe ao usuário e encerre o programa;\n",
    "* Se o delta calculado for igual a zero a equação possui apenas uma raiz real; informe-a ao usuário;\n",
    "* Se o delta for positivo, a equação possui duas raiz reais; informe-as ao usuário;"
   ]
  },
  {
   "cell_type": "code",
   "execution_count": null,
   "id": "6cea4a0b",
   "metadata": {},
   "outputs": [],
   "source": [
    "a = int(input('Informe o valor de \"a\": '))\n",
    "if a==0:\n",
    "    print('Impossível realizar uma equação de segundo grau com o valor \"a\" igual a zero. Encerrando o programa.')\n",
    "else:\n",
    "    b = int(input('Informe o valor de \"b\": '))\n",
    "    c = int(input('Informe o valor de \"c\": '))\n",
    "\n",
    "    delta = b**2-(4*a*c)\n",
    "    raiz_delta = delta**0.5\n",
    "    x_1 = (-b+raiz_delta)/(2*a)\n",
    "    x_2 = (-b-raiz_delta)/(2*a)\n",
    "\n",
    "    if delta<0:\n",
    "        print ('A equação não possui raizes reais. Encerrando o programa.')\n",
    "    elif delta==0:\n",
    "        print('A equação possui apenas uma raiz real, sendo ela {} {}.' .format(x_1, x_2))\n",
    "    else:\n",
    "        print('A equação possui duas raízes reais, sendo elas {} e {}.' .format(x_1, x_2))"
   ]
  },
  {
   "cell_type": "markdown",
   "id": "563c8a2d",
   "metadata": {},
   "source": [
    "17. Faça um Programa que peça um número correspondente a um determinado ano e em seguida informe se este ano é ou não bissexto."
   ]
  },
  {
   "cell_type": "code",
   "execution_count": null,
   "id": "cf656ba0",
   "metadata": {},
   "outputs": [],
   "source": [
    "ano = int(input('Digite o ano para verificar se ele é bissesto: '))\n",
    "\n",
    "if (ano%4==0 or ano%400==0 and ano%100!=0) or (ano%100==0):\n",
    "    print('O ano {} é bissesto' .format(ano))\n",
    "else:\n",
    "    print('O ano {} não é bissesto' .format(ano))"
   ]
  },
  {
   "cell_type": "markdown",
   "id": "09e9ba05",
   "metadata": {},
   "source": [
    "18. Faça um Programa que peça uma data no formato dd/mm/aaaa e determine se a mesma é uma data válida."
   ]
  },
  {
   "cell_type": "code",
   "execution_count": 11,
   "id": "e50850b2",
   "metadata": {},
   "outputs": [
    {
     "name": "stdout",
     "output_type": "stream",
     "text": [
      "Digite o dia: 0\n",
      "Digite o mês: 02\n",
      "Digite o ano: 1992\n",
      "O ano de 1992 é bissesto e o mês de Fevereiro possui apenas 29 dias.\n"
     ]
    }
   ],
   "source": [
    "dia = int(input('Digite o dia: '))\n",
    "mes = int(input('Digite o mês: '))\n",
    "ano = int(input('Digite o ano: '))\n",
    "\n",
    "# Verifica se o ano digitado é bissesto\n",
    "if (ano%4==0 or ano%400==0 and ano%100!=0) or (ano%100==0):\n",
    "    bissesto='sim'\n",
    "else:\n",
    "    bissesto='nao'\n",
    "\n",
    "# Verifica se o ano é bissesto e se o dia e mês digitado são validos\n",
    "if mes==1 or mes==3 or mes==5 or mes==7 or mes==8 or mes==10 or mes==12:\n",
    "    if dia<1 or dia>31:\n",
    "        print('Não existe dia {} no mês de {}' .format(dia, mes))\n",
    "    else:\n",
    "        print('{0}/{1}/{2}' .format(dia, mes, ano))\n",
    "elif mes==4 or mes==6 or mes==9 or mes==11:\n",
    "    if dia<1 or dia>30:\n",
    "        print('Não existe dia {} no mês de {}' .format(dia, mes))\n",
    "        print('{0}/{1}/{2}' .format(dia, mes, ano))\n",
    "else:\n",
    "    if mes==2 and bissesto=='sim':\n",
    "        if dia<1 or dia>29:\n",
    "            print('O ano de {} é bissesto e o mês de Fevereiro possui apenas 29 dias.' .format(ano))\n",
    "        else:\n",
    "            print('{0}/{1}/{2}' .format(dia, mes, ano))\n",
    "    else: \n",
    "        if mes==2 and bissesto=='nao':\n",
    "            if dia<1 or dia>28:\n",
    "                print('O ano de {} não é bissesto e o mês de Fevereiro possui apenas 28 dias.' .format(ano))\n",
    "            else:\n",
    "                print('{0}/{1}/{2}' .format(dia, mes, ano))\n"
   ]
  },
  {
   "cell_type": "markdown",
   "id": "8e2dcc3a",
   "metadata": {},
   "source": [
    "19. Faça um Programa que leia um número inteiro menor que 1000 e imprima a quantidade de centenas, dezenas e unidades do mesmo. Observando os termos no plural a colocação do \"e\", da vírgula entre outros. Exemplo:\n",
    "* 326 = 3 centenas, 2 dezenas e 6 unidades\n",
    "* 12 = 1 dezena e 2 unidades Testar com: 326, 300, 100, 320, 310,305, 301, 101, 311, 111, 25, 20, 10, 21, 11, 1, 7 e 16"
   ]
  },
  {
   "cell_type": "code",
   "execution_count": null,
   "id": "7e6903a9",
   "metadata": {},
   "outputs": [],
   "source": []
  },
  {
   "cell_type": "markdown",
   "id": "ededd35e",
   "metadata": {},
   "source": [
    "20. Faça um Programa para leitura de três notas parciais de um aluno. O programa deve calcular a média alcançada por aluno e presentar:\n",
    "* A mensagem \"Aprovado\", se a média for maior ou igual a 7, com a respectiva média alcançada;\n",
    "* mensagem \"Reprovado\", se a média for menor do que 7, com a respectiva média alcançada;\n",
    "* mensagem \"Aprovado com Distinção\", se a média for igual a 10."
   ]
  },
  {
   "cell_type": "code",
   "execution_count": null,
   "id": "09146e31",
   "metadata": {},
   "outputs": [],
   "source": []
  },
  {
   "cell_type": "markdown",
   "id": "780bb05c",
   "metadata": {},
   "source": [
    "21. Faça um Programa para um caixa eletrônico. O programa deverá perguntar ao usuário a valor do saque e depois informar quantas notas de cada valor serão fornecidas. As notas disponíveis serão as de 1, 5, 10, 50 e 100 reais. O valor mínimo é de 10 reais e o máximo de 600 reais. O programa não deve se preocupar com a quantidade de notas existentes na máquina.\n",
    "* Exemplo 1: Para sacar a quantia de 256 reais, o programa fornece duas notas de 100, uma nota de 50, uma nota de 5 e uma nota de 1;\n",
    "* Exemplo 2: Para sacar a quantia de 399 reais, o programa fornece três notas de 100, uma nota de 50, quatro notas de 10, uma nota de 5 e quatro notas de 1."
   ]
  },
  {
   "cell_type": "code",
   "execution_count": null,
   "id": "c281cd51",
   "metadata": {},
   "outputs": [],
   "source": []
  },
  {
   "cell_type": "markdown",
   "id": "6872d7e7",
   "metadata": {},
   "source": [
    "22. Faça um Programa que peça um número inteiro e determine se ele é par ou impar. Dica: utilize o operador módulo (resto da divisão)."
   ]
  },
  {
   "cell_type": "code",
   "execution_count": null,
   "id": "aa158c05",
   "metadata": {},
   "outputs": [],
   "source": []
  },
  {
   "cell_type": "markdown",
   "id": "9151529a",
   "metadata": {},
   "source": [
    "23. Faça um Programa que peça um número e informe se o número é inteiro ou decimal. Dica: utilize uma função de arredondamento."
   ]
  },
  {
   "cell_type": "code",
   "execution_count": null,
   "id": "fdd7266f",
   "metadata": {},
   "outputs": [],
   "source": []
  },
  {
   "cell_type": "markdown",
   "id": "927bcf96",
   "metadata": {},
   "source": [
    "24. Faça um Programa que leia 2 números e em seguida pergunte ao usuário qual operação ele deseja realizar. O resultado da operação deve ser acompanhado de uma frase que diga se o número é:\n",
    "* par ou ímpar;\n",
    "* positivo ou negativo;\n",
    "* inteiro ou decimal."
   ]
  },
  {
   "cell_type": "code",
   "execution_count": null,
   "id": "b71d7907",
   "metadata": {},
   "outputs": [],
   "source": []
  },
  {
   "cell_type": "markdown",
   "id": "218bd530",
   "metadata": {},
   "source": [
    "25. Faça um programa que faça 5 perguntas para uma pessoa sobre um crime. As perguntas são:\n",
    "* \"Telefonou para a vítima?\"\n",
    "* \"Esteve no local do crime?\"\n",
    "* \"Mora perto da vítima?\"\n",
    "* \"Devia para a vítima?\"\n",
    "* \"Já trabalhou com a vítima?\" \n",
    "\n",
    "  O programa deve no final emitir uma classificação sobre a participação da pessoa no crime. Se a pessoa responder positivamente a 2 questões ela deve ser classificada como \"Suspeita\", entre 3 e 4 como \"Cúmplice\" e 5 como \"Assassino\". Caso contrário, ele será classificado como \"Inocente\".\n"
   ]
  },
  {
   "cell_type": "code",
   "execution_count": null,
   "id": "2a4184d3",
   "metadata": {},
   "outputs": [],
   "source": []
  },
  {
   "cell_type": "markdown",
   "id": "8aa18785",
   "metadata": {},
   "source": [
    "26. Um posto está vendendo combustíveis com a seguinte tabela de descontos:\n",
    "###### Álcool:\n",
    "* até 20 litros, desconto de 3% por litro\n",
    "* acima de 20 litros, desconto de 5% por litro\n",
    "###### Gasolina:\n",
    "* até 20 litros, desconto de 4% por litro\n",
    "* acima de 20 litros, desconto de 6% por litro \n",
    "\n",
    "    Escreva um algoritmo que leia o número de litros vendidos, o tipo de combustível (codificado da seguinte forma: A-álcool, G-gasolina), calcule e imprima o valor a ser pago pelo cliente sabendo-se que o preço do litro da gasolina é RS 2,50 o preço do litro do álcool é RS 1,90."
   ]
  },
  {
   "cell_type": "code",
   "execution_count": null,
   "id": "fe86b085",
   "metadata": {},
   "outputs": [],
   "source": []
  },
  {
   "cell_type": "markdown",
   "id": "5a2ec6a7",
   "metadata": {},
   "source": [
    "27. Uma fruteira está vendendo frutas com a seguinte tabela de preços:\n",
    "                              Até 5 Kg           Acima de 5 Kg\n",
    "                              \n",
    "        Morango         RS 2,50 por Kg          RS 2,20 por Kg\n",
    "        Maçã            RS 1,80 por Kg          RS 1,50 por Kg\n",
    "\n",
    "    Se o cliente comprar mais de 8 Kg em frutas ou o valor total da compra ultrapassar RS 25,00, receberá ainda um desconto de 10% sobre este total. Escreva um algoritmo para ler a quantidade (em Kg) de morangos e a quantidade (em Kg) de maças adquiridas e escreva o valor a ser pago pelo cliente."
   ]
  },
  {
   "cell_type": "code",
   "execution_count": null,
   "id": "7daccb8e",
   "metadata": {},
   "outputs": [],
   "source": []
  },
  {
   "cell_type": "markdown",
   "id": "61313b32",
   "metadata": {},
   "source": [
    "28. O Hipermercado Tabajara está com uma promoção de carnes que é imperdível. Confira:\n",
    "\n",
    "                              Até 5 Kg           Acima de 5 Kg\n",
    "                              \n",
    "        File Duplo      RS 4,90 por Kg          RS 5,80 por Kg\n",
    "        Alcatra         RS 5,90 por Kg          RS 6,80 por Kg\n",
    "        Picanha         RS 6,90 por Kg          RS 7,80 por Kg\n",
    "        \n",
    "    Para atender a todos os clientes, cada cliente poderá levar apenas um dos tipos de carne da promoção, porém não há limites para a quantidade de carne por cliente. Se compra for feita no cartão Tabajara o cliente receberá ainda um desconto de 5% sobre o total da compra. \n",
    "    \n",
    "    Escreva um programa que peça o tipo e a quantidade de carne comprada pelo usuário e gere um cupom fiscal, contendo as informações da compra: tipo e quantidade de carne, preço total, tipo de pagamento, valor do desconto e valor a pagar."
   ]
  },
  {
   "cell_type": "code",
   "execution_count": null,
   "id": "ef000eec",
   "metadata": {},
   "outputs": [],
   "source": []
  }
 ],
 "metadata": {
  "kernelspec": {
   "display_name": "Python 3 (ipykernel)",
   "language": "python",
   "name": "python3"
  },
  "language_info": {
   "codemirror_mode": {
    "name": "ipython",
    "version": 3
   },
   "file_extension": ".py",
   "mimetype": "text/x-python",
   "name": "python",
   "nbconvert_exporter": "python",
   "pygments_lexer": "ipython3",
   "version": "3.9.12"
  }
 },
 "nbformat": 4,
 "nbformat_minor": 5
}
