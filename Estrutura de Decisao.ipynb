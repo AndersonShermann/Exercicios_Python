{
 "cells": [
  {
   "cell_type": "markdown",
   "id": "2f933af7",
   "metadata": {},
   "source": [
    "###### Exercícios de Estrutura Sequencial do site https://wiki.python.org.br/EstruturaDeDecisao"
   ]
  },
  {
   "cell_type": "code",
   "execution_count": 12,
   "id": "61b9fb59",
   "metadata": {},
   "outputs": [
    {
     "name": "stdout",
     "output_type": "stream",
     "text": [
      "Digite o primeiro número:789\n",
      "Digite o segundo número:516\n",
      "O maior número é 789\n"
     ]
    }
   ],
   "source": [
    "# Faça um Programa que peça dois números e imprima o maior deles.\n",
    "\n",
    "num_1 = int(input('Digite o primeiro número:'))\n",
    "num_2 = int(input('Digite o segundo número:'))\n",
    "\n",
    "if num_1 > num_2:\n",
    "    print('O maior número é %d' %num_1)\n",
    "else:\n",
    "    print('O maior número é %d' %num_2)"
   ]
  },
  {
   "cell_type": "code",
   "execution_count": 15,
   "id": "aa7ece8f",
   "metadata": {},
   "outputs": [
    {
     "name": "stdout",
     "output_type": "stream",
     "text": [
      "Digite um número: -4\n",
      "O valor digitado é negativo.\n"
     ]
    }
   ],
   "source": [
    "# Faça um Programa que peça um valor e mostre na tela se o valor é positivo ou negativo.\n",
    "\n",
    "num = int(input('Digite um número: '))\n",
    "if num>=0:\n",
    "    print('O número digitado é positivo.')\n",
    "else:\n",
    "    print('O valor digitado é negativo.')"
   ]
  },
  {
   "cell_type": "code",
   "execution_count": 19,
   "id": "a98e784b",
   "metadata": {},
   "outputs": [
    {
     "name": "stdout",
     "output_type": "stream",
     "text": [
      "Informe o seu sexo. Digite \"f\" para feminino e \"m\" para masculino.s\n",
      "Sexo inválido.\n"
     ]
    }
   ],
   "source": [
    "# Faça um Programa que verifique se uma letra digitada é \"F\" ou \"M\". Conforme a letra escrever: F - Feminino, M - Masculino, \n",
    "# Sexo Inválido.\n",
    "\n",
    "sexo = input('Informe o seu sexo. Digite \"f\" para feminino e \"m\" para masculino.')\n",
    "if sexo == 'f':\n",
    "    print('Você é do sexo feminino')\n",
    "elif sexo == 'm':\n",
    "    print('Você é do sexo masculino')\n",
    "else:\n",
    "    print('Sexo inválido.')    "
   ]
  },
  {
   "cell_type": "code",
   "execution_count": 36,
   "id": "85a51daa",
   "metadata": {},
   "outputs": [
    {
     "name": "stdout",
     "output_type": "stream",
     "text": [
      "Digite uma letra:i\n",
      "A letra digitada é uma vogal.\n"
     ]
    }
   ],
   "source": [
    "# Faça um Programa que verifique se uma letra digitada é vogal ou consoante.\n",
    "\n",
    "letra=input('Digite uma letra:')\n",
    "\n",
    "if letra=='a' or letra=='e' or letra=='i' or letra=='o' or letra=='u':\n",
    "    print('A letra digitada é uma vogal.')\n",
    "else:\n",
    "    print('A letra digitada é uma consoante.')"
   ]
  },
  {
   "cell_type": "code",
   "execution_count": 42,
   "id": "869c8fad",
   "metadata": {},
   "outputs": [
    {
     "name": "stdout",
     "output_type": "stream",
     "text": [
      "Informe a primeira nota: 7\n",
      "Informe a segunda nota: 6\n",
      "Reprovado\n"
     ]
    }
   ],
   "source": [
    "# Faça um programa para a leitura de duas notas parciais de um aluno. O programa deve calcular a média alcançada por aluno e \n",
    "# apresentar:\n",
    "# A mensagem \"Aprovado\", se a média alcançada for maior ou igual a sete;\n",
    "# A mensagem \"Reprovado\", se a média for menor do que sete;\n",
    "# A mensagem \"Aprovado com Distinção\", se a média for igual a dez.\n",
    "\n",
    "nota_1 = float(input('Informe a primeira nota: '))\n",
    "nota_2 = float(input('Informe a segunda nota: '))\n",
    "media = (nota_1+nota_2)/2\n",
    "\n",
    "if media==10:\n",
    "    print('Aprovado com distinção')\n",
    "elif media>=7:\n",
    "    print('Aprovado')\n",
    "else:\n",
    "    print('Reprovado')"
   ]
  },
  {
   "cell_type": "code",
   "execution_count": 47,
   "id": "b8de7854",
   "metadata": {},
   "outputs": [
    {
     "name": "stdout",
     "output_type": "stream",
     "text": [
      "Digite o primeiro número: 16\n",
      "Digite o segundo número: 79\n",
      "Digite o terceiro número: 98\n",
      "O maior número é 98\n"
     ]
    }
   ],
   "source": [
    "# Faça um Programa que leia três números e mostre o maior deles.\n",
    "\n",
    "num_1 = int(input('Digite o primeiro número: '))\n",
    "num_2 = int(input('Digite o segundo número: '))\n",
    "num_3 = int(input('Digite o terceiro número: '))\n",
    "\n",
    "if num_1>num_2 and num_1>num_3:\n",
    "    print('O maior número é {}' .format(num_1))\n",
    "elif num_2>num_1 and num_2>num_3:\n",
    "    print('O maior número é {}' .format(num_2))\n",
    "else:\n",
    "    print('O maior número é {}' .format(num_3))"
   ]
  },
  {
   "cell_type": "code",
   "execution_count": 57,
   "id": "8905880c",
   "metadata": {},
   "outputs": [
    {
     "name": "stdout",
     "output_type": "stream",
     "text": [
      "Digite o primeiro número: 78\n",
      "Digite o segundo número: 45\n",
      "Digite o terceiro número: 126\n",
      "O maior número é 126 e o menor número é 45\n"
     ]
    }
   ],
   "source": [
    "# Faça um Programa que leia três números e mostre o maior e o menor deles.\n",
    "\n",
    "num_1 = int(input('Digite o primeiro número: '))\n",
    "num_2 = int(input('Digite o segundo número: '))\n",
    "num_3 = int(input('Digite o terceiro número: '))\n",
    "maior = num_1\n",
    "menor = num_1\n",
    "\n",
    "# descobrindo o maior\n",
    "if num_2>maior:\n",
    "    maior=num_2\n",
    "if num_3>maior:\n",
    "    maior=num_3\n",
    "# descobrindo o menor\n",
    "if num_2<menor:\n",
    "    menor=num_2\n",
    "if num_3<menor:\n",
    "    menor=num_3\n",
    "    \n",
    "print('O maior número é {0} e o menor número é {1}' .format(maior, menor))"
   ]
  },
  {
   "cell_type": "code",
   "execution_count": null,
   "id": "9e4cfe5a",
   "metadata": {},
   "outputs": [],
   "source": [
    "# Faça um programa que pergunte o preço de três produtos e informe qual produto você deve comprar, sabendo que a decisão é \n",
    "# sempre pelo mais barato."
   ]
  },
  {
   "cell_type": "code",
   "execution_count": null,
   "id": "aa89863f",
   "metadata": {},
   "outputs": [],
   "source": [
    "# Faça um Programa que leia três números e mostre-os em ordem decrescente."
   ]
  },
  {
   "cell_type": "code",
   "execution_count": null,
   "id": "6655cd49",
   "metadata": {},
   "outputs": [],
   "source": [
    "# Faça um Programa que pergunte em que turno você estuda. Peça para digitar M-matutino ou V-Vespertino ou N- Noturno. \n",
    "# Imprima a mensagem \"Bom Dia!\", \"Boa Tarde!\" ou \"Boa Noite!\" ou \"Valor Inválido!\", conforme o caso."
   ]
  },
  {
   "cell_type": "code",
   "execution_count": null,
   "id": "50855564",
   "metadata": {},
   "outputs": [],
   "source": [
    "# As Organizações Tabajara resolveram dar um aumento de salário aos seus colaboradores e lhe contraram para desenvolver o \n",
    "# programa que calculará os reajustes.\n",
    "# Faça um programa que recebe o salário de um colaborador e o reajuste segundo o seguinte critério, baseado no salário atual:\n",
    "# 1. salários até R$ 280,00 (incluindo) : aumento de 20%\n",
    "# 2. salários entre R$ 280,00 e R$ 700,00 : aumento de 15%\n",
    "# 3. salários entre R$ 700,00 e R$ 1500,00 : aumento de 10%\n",
    "# 4. salários de R$ 1500,00 em diante : aumento de 5% Após o aumento ser realizado, informe na tela:\n",
    "# 5. o salário antes do reajuste;\n",
    "# 6. o percentual de aumento aplicado;\n",
    "# 7. o valor do aumento;\n",
    "# 8. o novo salário, após o aumento."
   ]
  }
 ],
 "metadata": {
  "kernelspec": {
   "display_name": "Python 3 (ipykernel)",
   "language": "python",
   "name": "python3"
  },
  "language_info": {
   "codemirror_mode": {
    "name": "ipython",
    "version": 3
   },
   "file_extension": ".py",
   "mimetype": "text/x-python",
   "name": "python",
   "nbconvert_exporter": "python",
   "pygments_lexer": "ipython3",
   "version": "3.9.12"
  }
 },
 "nbformat": 4,
 "nbformat_minor": 5
}
